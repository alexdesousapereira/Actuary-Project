{
 "cells": [
  {
   "cell_type": "markdown",
   "metadata": {},
   "source": [
    "# Exercicios de Anuidade\n",
    "\n",
    "Considere uma pessoa de 30 anos de idade, considere a tábua feminina\n",
    "extrapolada do IBGE 2020 e taxa de juros ao ano de 5% ao ano. Considere ainda que o\n",
    "valor pago anualmente será de 1 u.m..\n"
   ]
  },
  {
   "cell_type": "markdown",
   "metadata": {},
   "source": [
    "## Pacotes"
   ]
  },
  {
   "cell_type": "code",
   "execution_count": null,
   "metadata": {},
   "outputs": [],
   "source": [
    "import pandas as pd\n",
    "import matplotlib.pyplot as plt\n",
    "import numpy as np\n",
    "from life.insurance import isrc_discrete"
   ]
  },
  {
   "cell_type": "markdown",
   "metadata": {},
   "source": [
    "## Tabelas de Mortalidade"
   ]
  },
  {
   "cell_type": "code",
   "execution_count": null,
   "metadata": {},
   "outputs": [],
   "source": [
    "lt = pd.read_csv('life/life_tables.csv')"
   ]
  },
  {
   "cell_type": "code",
   "execution_count": null,
   "metadata": {},
   "outputs": [
    {
     "data": {
      "text/html": [
       "<div>\n",
       "<style scoped>\n",
       "    .dataframe tbody tr th:only-of-type {\n",
       "        vertical-align: middle;\n",
       "    }\n",
       "\n",
       "    .dataframe tbody tr th {\n",
       "        vertical-align: top;\n",
       "    }\n",
       "\n",
       "    .dataframe thead th {\n",
       "        text-align: right;\n",
       "    }\n",
       "</style>\n",
       "<table border=\"1\" class=\"dataframe\">\n",
       "  <thead>\n",
       "    <tr style=\"text-align: right;\">\n",
       "      <th></th>\n",
       "      <th>AGE</th>\n",
       "      <th>AT_2000_F</th>\n",
       "      <th>AT_2000_M</th>\n",
       "      <th>AT_49_F</th>\n",
       "      <th>AT_49_M</th>\n",
       "      <th>AT_83_F</th>\n",
       "      <th>AT_83_M</th>\n",
       "      <th>IBGE_2020_F</th>\n",
       "      <th>IBGE_2020_M</th>\n",
       "    </tr>\n",
       "  </thead>\n",
       "  <tbody>\n",
       "    <tr>\n",
       "      <th>111</th>\n",
       "      <td>111</td>\n",
       "      <td>0.644427</td>\n",
       "      <td>0.668186</td>\n",
       "      <td>1.0</td>\n",
       "      <td>1.0</td>\n",
       "      <td>0.650646</td>\n",
       "      <td>0.695704</td>\n",
       "      <td>1.0</td>\n",
       "      <td>1.0</td>\n",
       "    </tr>\n",
       "    <tr>\n",
       "      <th>112</th>\n",
       "      <td>112</td>\n",
       "      <td>0.719484</td>\n",
       "      <td>0.739483</td>\n",
       "      <td>1.0</td>\n",
       "      <td>1.0</td>\n",
       "      <td>0.724750</td>\n",
       "      <td>0.762343</td>\n",
       "      <td>1.0</td>\n",
       "      <td>1.0</td>\n",
       "    </tr>\n",
       "    <tr>\n",
       "      <th>113</th>\n",
       "      <td>113</td>\n",
       "      <td>0.803380</td>\n",
       "      <td>0.818254</td>\n",
       "      <td>1.0</td>\n",
       "      <td>1.0</td>\n",
       "      <td>0.807316</td>\n",
       "      <td>0.835056</td>\n",
       "      <td>1.0</td>\n",
       "      <td>1.0</td>\n",
       "    </tr>\n",
       "    <tr>\n",
       "      <th>114</th>\n",
       "      <td>114</td>\n",
       "      <td>0.896693</td>\n",
       "      <td>0.904945</td>\n",
       "      <td>1.0</td>\n",
       "      <td>1.0</td>\n",
       "      <td>0.898885</td>\n",
       "      <td>0.914167</td>\n",
       "      <td>1.0</td>\n",
       "      <td>1.0</td>\n",
       "    </tr>\n",
       "    <tr>\n",
       "      <th>115</th>\n",
       "      <td>115</td>\n",
       "      <td>1.000000</td>\n",
       "      <td>1.000000</td>\n",
       "      <td>1.0</td>\n",
       "      <td>1.0</td>\n",
       "      <td>1.000000</td>\n",
       "      <td>1.000000</td>\n",
       "      <td>1.0</td>\n",
       "      <td>1.0</td>\n",
       "    </tr>\n",
       "  </tbody>\n",
       "</table>\n",
       "</div>"
      ],
      "text/plain": [
       "     AGE  AT_2000_F  AT_2000_M  AT_49_F  AT_49_M   AT_83_F   AT_83_M  \\\n",
       "111  111   0.644427   0.668186      1.0      1.0  0.650646  0.695704   \n",
       "112  112   0.719484   0.739483      1.0      1.0  0.724750  0.762343   \n",
       "113  113   0.803380   0.818254      1.0      1.0  0.807316  0.835056   \n",
       "114  114   0.896693   0.904945      1.0      1.0  0.898885  0.914167   \n",
       "115  115   1.000000   1.000000      1.0      1.0  1.000000  1.000000   \n",
       "\n",
       "     IBGE_2020_F  IBGE_2020_M  \n",
       "111          1.0          1.0  \n",
       "112          1.0          1.0  \n",
       "113          1.0          1.0  \n",
       "114          1.0          1.0  \n",
       "115          1.0          1.0  "
      ]
     },
     "metadata": {},
     "output_type": "display_data"
    }
   ],
   "source": [
    "lt.tail()"
   ]
  },
  {
   "cell_type": "code",
   "execution_count": 8,
   "metadata": {},
   "outputs": [],
   "source": [
    "from life.annuity import ann_discrete \n",
    "\n",
    "ax_discrete = ann_discrete(table=lt['IBGE_2020_F']) # funções de anuidade discreta"
   ]
  },
  {
   "cell_type": "markdown",
   "metadata": {},
   "source": [
    "## 1. Calcule o prêmio puro único de uma anuidade vitalícia imediata antecipada."
   ]
  },
  {
   "cell_type": "markdown",
   "metadata": {},
   "source": [
    "$$\n",
    "\\ddot{a}_{x} = \\sum_{k=0}^{\\omega - x} v^{k} {}_{k}p_{x}\n",
    "$$"
   ]
  },
  {
   "cell_type": "code",
   "execution_count": 9,
   "metadata": {},
   "outputs": [
    {
     "data": {
      "text/plain": [
       "18.848754720772536"
      ]
     },
     "execution_count": 9,
     "metadata": {},
     "output_type": "execute_result"
    }
   ],
   "source": [
    "ax_discrete.ax(i=0.05, age=30, B=1, due=True)"
   ]
  },
  {
   "cell_type": "markdown",
   "metadata": {},
   "source": [
    "### a. Recalcule a anuidade para uma pessoa de 20 anos (e demais informações do perfil geral)"
   ]
  },
  {
   "cell_type": "code",
   "execution_count": 11,
   "metadata": {},
   "outputs": [
    {
     "data": {
      "text/plain": [
       "19.599162988386933"
      ]
     },
     "execution_count": 11,
     "metadata": {},
     "output_type": "execute_result"
    }
   ],
   "source": [
    "ax_discrete.ax(i=0.05, age=20, B=1, due=True)"
   ]
  },
  {
   "cell_type": "markdown",
   "metadata": {},
   "source": [
    "### b. Recalcule a anuidade considerando uma taxa de juros de 2% ao ano (e demais informações do perfil geral)"
   ]
  },
  {
   "cell_type": "code",
   "execution_count": 12,
   "metadata": {},
   "outputs": [
    {
     "data": {
      "text/plain": [
       "32.1760204783166"
      ]
     },
     "execution_count": 12,
     "metadata": {},
     "output_type": "execute_result"
    }
   ],
   "source": [
    "ax_discrete.ax(i=0.02, age=30, B=1, due=True)"
   ]
  },
  {
   "cell_type": "markdown",
   "metadata": {},
   "source": [
    "### c. Recalcule a anuidade, mas diferida por 1 ano"
   ]
  },
  {
   "cell_type": "markdown",
   "metadata": {},
   "source": [
    "$$\n",
    "{}_{m|}a_{x:\\overline{n}|} = v^{m} {}_{m}p_{x} \\sum_{k=1}^{n} v^{k} {}_{k}p_{x+m}\n",
    "$$\n"
   ]
  },
  {
   "cell_type": "code",
   "execution_count": 15,
   "metadata": {},
   "outputs": [
    {
     "data": {
      "text/plain": [
       "17.84875472077253"
      ]
     },
     "execution_count": 15,
     "metadata": {},
     "output_type": "execute_result"
    }
   ],
   "source": [
    "ax_discrete.def_ax(i=0.05, age=30, n_def=1, B=1, due=True)"
   ]
  },
  {
   "cell_type": "markdown",
   "metadata": {},
   "source": [
    "### d. Recalcule a anuidade, mas postecipada"
   ]
  },
  {
   "cell_type": "code",
   "execution_count": 17,
   "metadata": {},
   "outputs": [
    {
     "data": {
      "text/plain": [
       "17.848754720772536"
      ]
     },
     "execution_count": 17,
     "metadata": {},
     "output_type": "execute_result"
    }
   ],
   "source": [
    "ax_discrete.ax(i=0.05, age=30, B=1)"
   ]
  },
  {
   "cell_type": "markdown",
   "metadata": {},
   "source": [
    "## 2. Calcule o prêmio puro único de uma anuidade imediata antecipada temporário por 40 anos."
   ]
  },
  {
   "cell_type": "markdown",
   "metadata": {},
   "source": [
    "$$\n",
    "\\ddot{a}_{x:\\overline{n}|} = \\sum_{k=0}^{n} v^{k} {}_{k}p_{x}\n",
    "$$"
   ]
  },
  {
   "cell_type": "code",
   "execution_count": 20,
   "metadata": {},
   "outputs": [
    {
     "data": {
      "text/plain": [
       "17.544472714463556"
      ]
     },
     "execution_count": 20,
     "metadata": {},
     "output_type": "execute_result"
    }
   ],
   "source": [
    "ax_discrete.ax_tmp(i=0.05, age=30, tmp=40, B=1, due=True)"
   ]
  },
  {
   "cell_type": "markdown",
   "metadata": {},
   "source": [
    "### a. Recalcule considerando uma anuidade temporária por 20 anos"
   ]
  },
  {
   "cell_type": "code",
   "execution_count": 18,
   "metadata": {},
   "outputs": [
    {
     "data": {
      "text/plain": [
       "12.97051375474137"
      ]
     },
     "execution_count": 18,
     "metadata": {},
     "output_type": "execute_result"
    }
   ],
   "source": [
    "ax_discrete.ax_tmp(i=0.05, age=30, tmp=20, B=1, due=True)"
   ]
  },
  {
   "cell_type": "markdown",
   "metadata": {},
   "source": [
    "### b. Recalcule considerando uma anuidade temporária por 60 anos"
   ]
  },
  {
   "cell_type": "code",
   "execution_count": 19,
   "metadata": {},
   "outputs": [
    {
     "data": {
      "text/plain": [
       "18.758951648093326"
      ]
     },
     "execution_count": 19,
     "metadata": {},
     "output_type": "execute_result"
    }
   ],
   "source": [
    "ax_discrete.ax_tmp(i=0.05, age=30, tmp=60, B=1, due=True)"
   ]
  },
  {
   "cell_type": "markdown",
   "metadata": {},
   "source": [
    "### c. Recalcule a anuidade temporária, mas postecipada"
   ]
  },
  {
   "cell_type": "code",
   "execution_count": 21,
   "metadata": {},
   "outputs": [
    {
     "data": {
      "text/plain": [
       "16.66149470747933"
      ]
     },
     "execution_count": 21,
     "metadata": {},
     "output_type": "execute_result"
    }
   ],
   "source": [
    "ax_discrete.ax_tmp(i=0.05, age=30, tmp=40, B=1)"
   ]
  },
  {
   "cell_type": "markdown",
   "metadata": {},
   "source": [
    "### 3. Calcule o prêmio puro único de uma anuidade vitalícia antecipada e diferida por 10 anos"
   ]
  },
  {
   "cell_type": "markdown",
   "metadata": {},
   "source": [
    "$$\n",
    "{}_{m|}\\ddot{a}_{x} = v^{m} {}_{m}p_{x} \\sum_{k=0}^{\\omega - m - x} v^{k} {}_{k}p_{x+m}\n",
    "$$"
   ]
  },
  {
   "cell_type": "code",
   "execution_count": 22,
   "metadata": {},
   "outputs": [
    {
     "data": {
      "text/plain": [
       "10.769560198216206"
      ]
     },
     "execution_count": 22,
     "metadata": {},
     "output_type": "execute_result"
    }
   ],
   "source": [
    "ax_discrete.def_ax(i=0.05, age=30, n_def=10, B=1, due=True)"
   ]
  },
  {
   "cell_type": "markdown",
   "metadata": {},
   "source": [
    "### a. Recalcule a anuidade para uma pessoa de 20 anos (e demais informações do perfil geral)"
   ]
  },
  {
   "cell_type": "code",
   "execution_count": 23,
   "metadata": {},
   "outputs": [
    {
     "data": {
      "text/plain": [
       "11.508031741176731"
      ]
     },
     "execution_count": 23,
     "metadata": {},
     "output_type": "execute_result"
    }
   ],
   "source": [
    "ax_discrete.def_ax(i=0.05, age=20, n_def=10, B=1, due=True)"
   ]
  },
  {
   "cell_type": "markdown",
   "metadata": {},
   "source": [
    "### b. Recalcule a anuidade considerando uma taxa de juros de 2% ao ano (e demais informações do perfil geral)"
   ]
  },
  {
   "cell_type": "code",
   "execution_count": 24,
   "metadata": {},
   "outputs": [
    {
     "data": {
      "text/plain": [
       "23.04817198391374"
      ]
     },
     "execution_count": 24,
     "metadata": {},
     "output_type": "execute_result"
    }
   ],
   "source": [
    "ax_discrete.def_ax(i=0.02, age=30, n_def=10, B=1, due=True)"
   ]
  },
  {
   "cell_type": "markdown",
   "metadata": {},
   "source": [
    "## 4. Calcule o prêmio puro único de uma anuidade antecipada temporária por 40 anos e diferida por 10 anos."
   ]
  },
  {
   "cell_type": "markdown",
   "metadata": {},
   "source": [
    "$$\n",
    "{}_{m|}\\ddot{a}_{x:\\overline{n}|} = v^{m} {}_{m}p_{x} \\sum_{k=0}^{n} v^{k} {}_{k}p_{x+m}\n",
    "$$"
   ]
  },
  {
   "cell_type": "code",
   "execution_count": 30,
   "metadata": {},
   "outputs": [
    {
     "data": {
      "text/plain": [
       "10.329896924232315"
      ]
     },
     "execution_count": 30,
     "metadata": {},
     "output_type": "execute_result"
    }
   ],
   "source": [
    "ax_discrete.def_ax_tmp(i=0.05, age=30, n_def=10, tmp=40, B=1, due=True)"
   ]
  },
  {
   "cell_type": "markdown",
   "metadata": {},
   "source": [
    "### a. Recalcule considerando uma anuidade temporária por 20 anos"
   ]
  },
  {
   "cell_type": "code",
   "execution_count": 31,
   "metadata": {},
   "outputs": [
    {
     "data": {
      "text/plain": [
       "7.800086416922688"
      ]
     },
     "execution_count": 31,
     "metadata": {},
     "output_type": "execute_result"
    }
   ],
   "source": [
    "ax_discrete.def_ax_tmp(i=0.05, age=30, n_def=10, tmp=20, B=1,  due=True)"
   ]
  },
  {
   "cell_type": "markdown",
   "metadata": {},
   "source": [
    "### b. Recalcule considerando uma anuidade temporária por 60 anos"
   ]
  },
  {
   "cell_type": "code",
   "execution_count": 32,
   "metadata": {},
   "outputs": [
    {
     "data": {
      "text/plain": [
       "10.763921923226748"
      ]
     },
     "execution_count": 32,
     "metadata": {},
     "output_type": "execute_result"
    }
   ],
   "source": [
    "ax_discrete.def_ax_tmp(i=0.05, age=30, n_def=10, tmp=60, B=1,  due=True)"
   ]
  },
  {
   "cell_type": "markdown",
   "metadata": {},
   "source": [
    "### c. Recalcule considerando uma anuidade postecipada."
   ]
  },
  {
   "cell_type": "code",
   "execution_count": 33,
   "metadata": {},
   "outputs": [
    {
     "data": {
      "text/plain": [
       "9.776029480434143"
      ]
     },
     "execution_count": 33,
     "metadata": {},
     "output_type": "execute_result"
    }
   ],
   "source": [
    "ax_discrete.def_ax_tmp(i=0.05, age=30, n_def=10, tmp=40, B=1)\n"
   ]
  }
 ],
 "metadata": {
  "kernelspec": {
   "display_name": "Python 3.10.4 ('etl')",
   "language": "python",
   "name": "python3"
  },
  "language_info": {
   "codemirror_mode": {
    "name": "ipython",
    "version": 3
   },
   "file_extension": ".py",
   "mimetype": "text/x-python",
   "name": "python",
   "nbconvert_exporter": "python",
   "pygments_lexer": "ipython3",
   "version": "3.10.4"
  },
  "orig_nbformat": 4,
  "vscode": {
   "interpreter": {
    "hash": "64906686ea76786fd309c557813215fc9310eb3fc476a9d9068aa1a35eaf21fd"
   }
  }
 },
 "nbformat": 4,
 "nbformat_minor": 2
}
